{
 "cells": [
  {
   "cell_type": "code",
   "execution_count": 1,
   "metadata": {
    "collapsed": true
   },
   "outputs": [],
   "source": [
    "import tensorflow as tf\n",
    "import numpy as np\n",
    "import matplotlib.pyplot as plt"
   ]
  },
  {
   "cell_type": "code",
   "execution_count": 2,
   "metadata": {
    "collapsed": false,
    "scrolled": false
   },
   "outputs": [
    {
     "name": "stdout",
     "output_type": "stream",
     "text": [
      "After   0 epoch, loss is 0.91288\n",
      "After 100 epoch, loss is 0.81958\n",
      "After 200 epoch, loss is 0.75575\n",
      "After 300 epoch, loss is 0.71449\n",
      "After 400 epoch, loss is 0.68953\n",
      "After 500 epoch, loss is 0.67580\n",
      "After 600 epoch, loss is 0.66875\n",
      "After 700 epoch, loss is 0.66516\n",
      "After 800 epoch, loss is 0.66342\n",
      "After 900 epoch, loss is 0.66268\n",
      "After 1000 epoch, loss is 0.66238\n"
     ]
    }
   ],
   "source": [
    "batch_size = 8\n",
    "epoch_size = 1000\n",
    "data_size = 128\n",
    "\n",
    "w1 = tf.Variable(tf.random_normal(shape=[2, 3], stddev=1))\n",
    "b1 = tf.Variable(tf.zeros(shape=(1, 3)))\n",
    "w2 = tf.Variable(tf.random_normal(shape=[3, 1], stddev=1))\n",
    "b2 = tf.Variable(tf.zeros(shape=(1, 1)))\n",
    "\n",
    "data = np.random.randn(data_size, 2)\n",
    "label = [[int(x[0]*x[0] + x[1]*x[1]<1.)] for x in data]\n",
    "# plt.scatter(data[:, 0], data[:, 1], c = label, s = 30, cmap = plt.cm.Spectral)\n",
    "# plt.show()\n",
    "x = tf.placeholder(shape=(None, 2), dtype=tf.float32)\n",
    "y = tf.placeholder(shape=(None, 1), dtype=tf.float32)\n",
    "\n",
    "a1 = tf.matmul(x, w1) + b1\n",
    "y_hat = tf.sigmoid(tf.matmul(a1, w2) + b2)\n",
    "\n",
    "loss = -tf.reduce_mean(y * tf.log(tf.clip_by_value(y_hat, 1e-10, 1.)) + (1.-y) * tf.log(tf.clip_by_value((1.-y_hat), 1e-10, 1.)))\n",
    "train = tf.train.AdamOptimizer(0.001).minimize(loss)\n",
    "\n",
    "with tf.Session() as sess:\n",
    "    sess.run(tf.global_variables_initializer())\n",
    "    for epoch in range(epoch_size + 1):\n",
    "        start = (epoch * batch_size) % data_size\n",
    "        end = min(start + batch_size, data_size)\n",
    "        sess.run(train, feed_dict={x: data[start:end], y: label[start:end]})\n",
    "        if epoch % 100 == 0:\n",
    "            loss_value = sess.run(loss, feed_dict={x: data[:], y: label[:]})\n",
    "            print(\"After %3d epoch, loss is %.5f\" % (epoch, loss_value))"
   ]
  }
 ],
 "metadata": {
  "kernelspec": {
   "display_name": "Python [conda env:ada]",
   "language": "python",
   "name": "conda-env-ada-py"
  },
  "language_info": {
   "codemirror_mode": {
    "name": "ipython",
    "version": 3
   },
   "file_extension": ".py",
   "mimetype": "text/x-python",
   "name": "python",
   "nbconvert_exporter": "python",
   "pygments_lexer": "ipython3",
   "version": "3.5.5"
  }
 },
 "nbformat": 4,
 "nbformat_minor": 1
}
