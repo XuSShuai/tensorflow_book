{
 "cells": [
  {
   "cell_type": "code",
   "execution_count": 1,
   "metadata": {
    "collapsed": true
   },
   "outputs": [],
   "source": [
    "import tensorflow as tf\n",
    "import numpy as np\n",
    "import matplotlib.pyplot as plt"
   ]
  },
  {
   "cell_type": "code",
   "execution_count": 2,
   "metadata": {
    "collapsed": false
   },
   "outputs": [],
   "source": [
    "BATCH_SIZE = 8\n",
    "DATA_SIZE = 200\n",
    "EPOCH = 5000\n",
    "\n",
    "# create data \n",
    "X = np.random.randint(1, 100, 400).reshape(DATA_SIZE, 2)\n",
    "Y = np.array(X[:,0] + X[:,1] + np.random.randn() * 10).reshape(DATA_SIZE, 1)"
   ]
  },
  {
   "cell_type": "code",
   "execution_count": 6,
   "metadata": {
    "collapsed": false
   },
   "outputs": [
    {
     "name": "stdout",
     "output_type": "stream",
     "text": [
      "[[1.1234134]\n",
      " [1.0327634]]\n"
     ]
    }
   ],
   "source": [
    "w = tf.Variable(tf.truncated_normal(shape=[2, 1], stddev=0.1), dtype=tf.float32)\n",
    "\n",
    "x = tf.placeholder(dtype=tf.float32, shape=[None, 2])\n",
    "y = tf.placeholder(dtype=tf.float32, shape=[None, 1])\n",
    "y_hat = tf.matmul(x, w)\n",
    "\n",
    "loss_more, loss_less = 10, 1\n",
    "loss1 = tf.reduce_mean(tf.square(y_hat - y))\n",
    "loss2 = tf.reduce_mean(tf.where(tf.greater(y_hat, y), loss_less * (y_hat - y), loss_more * (y - y_hat)))\n",
    "loss3 = tf.reduce_mean(tf.where(tf.greater(y_hat, y), loss_more * (y_hat - y), loss_less * (y - y_hat)))\n",
    "train = tf.train.AdamOptimizer(0.01).minimize(loss3)\n",
    "\n",
    "with tf.Session() as sess:\n",
    "    init_op = sess.run(tf.global_variables_initializer())\n",
    "    for i in range(EPOCH):\n",
    "        start = (i * BATCH_SIZE) % DATA_SIZE\n",
    "        end = min(start + BATCH_SIZE, DATA_SIZE)\n",
    "        sess.run(train, feed_dict={x: X[start:end], y: Y[start:end]})\n",
    "    \n",
    "    print(sess.run(w))"
   ]
  },
  {
   "cell_type": "markdown",
   "metadata": {},
   "source": [
    " - loss1:\n",
    "  - [[1.1202968]\n",
    " [1.1079996]]\n",
    " - loss2:\n",
    "  - [[1.2242594]\n",
    " [1.1679944]]\n",
    " - loss3:\n",
    "  - [[1.1234134]\n",
    " [1.0327634]]"
   ]
  }
 ],
 "metadata": {
  "anaconda-cloud": {},
  "kernelspec": {
   "display_name": "Python [conda env:ada]",
   "language": "python",
   "name": "conda-env-ada-py"
  },
  "language_info": {
   "codemirror_mode": {
    "name": "ipython",
    "version": 3
   },
   "file_extension": ".py",
   "mimetype": "text/x-python",
   "name": "python",
   "nbconvert_exporter": "python",
   "pygments_lexer": "ipython3",
   "version": "3.5.5"
  }
 },
 "nbformat": 4,
 "nbformat_minor": 1
}
