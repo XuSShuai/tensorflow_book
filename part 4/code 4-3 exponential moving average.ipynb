{
 "cells": [
  {
   "cell_type": "code",
   "execution_count": 1,
   "metadata": {
    "collapsed": true
   },
   "outputs": [],
   "source": [
    "import tensorflow as tf"
   ]
  },
  {
   "cell_type": "code",
   "execution_count": 2,
   "metadata": {
    "collapsed": false
   },
   "outputs": [
    {
     "name": "stdout",
     "output_type": "stream",
     "text": [
      "[0.0, 0.0]\n",
      "[5.0, 4.5]\n",
      "[10.0, 4.555]\n",
      "[10.0, 4.60945]\n"
     ]
    }
   ],
   "source": [
    "v = tf.Variable(0.)\n",
    "update_step = tf.Variable(0, trainable=False)\n",
    "\n",
    "ema = tf.train.ExponentialMovingAverage(0.99, update_step)\n",
    "ema_op = ema.apply([v])\n",
    "\n",
    "with tf.Session() as sess:\n",
    "    sess.run(tf.global_variables_initializer())\n",
    "    print(sess.run([v, ema.average(v)]))\n",
    "    \n",
    "    sess.run(tf.assign(v, 5))\n",
    "    sess.run(ema_op)\n",
    "    print(sess.run([v, ema.average(v)])) # decay = min{0.99, 1/10}=0.1, 0.1*0 + 0.9 * 5 = 4.5\n",
    "    \n",
    "    sess.run(tf.assign(v, 10))\n",
    "    sess.run(tf.assign(update_step, 10000))\n",
    "    sess.run(ema_op)\n",
    "    print(sess.run([v, ema.average(v)])) # decay = min(0.99, (1 + 10000)/(10 + 10000))=0.99, 0.99 * 4.5 + 0.01 * 10 = 4.555\n",
    "    \n",
    "    sess.run(ema_op)\n",
    "    print(sess.run([v, ema.average(v)])) # decay = 0.99, 0.99 * 4.555 + 0.01 * 10 = 4.609"
   ]
  }
 ],
 "metadata": {
  "kernelspec": {
   "display_name": "Python [conda env:ada]",
   "language": "python",
   "name": "conda-env-ada-py"
  },
  "language_info": {
   "codemirror_mode": {
    "name": "ipython",
    "version": 3
   },
   "file_extension": ".py",
   "mimetype": "text/x-python",
   "name": "python",
   "nbconvert_exporter": "python",
   "pygments_lexer": "ipython3",
   "version": "3.5.5"
  }
 },
 "nbformat": 4,
 "nbformat_minor": 1
}
