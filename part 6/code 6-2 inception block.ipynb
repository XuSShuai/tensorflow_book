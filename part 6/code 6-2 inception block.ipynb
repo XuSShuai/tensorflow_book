{
 "cells": [
  {
   "cell_type": "code",
   "execution_count": null,
   "metadata": {
    "collapsed": true
   },
   "outputs": [],
   "source": [
    "import tensorflow as tf\n",
    "slim = tf.contrib.slim"
   ]
  },
  {
   "cell_type": "code",
   "execution_count": null,
   "metadata": {
    "collapsed": true
   },
   "outputs": [],
   "source": [
    "slim.arg_scope([slim.conv2d, slim.max_pool2d, slim.avg_pool2d], strides=1, padding=\"VALID\"):\n",
    "    net = 上一层的输出\n",
    "    with tf.variable_scope(\"Mixed_7c\"):\n",
    "        with tf.variable_scope(\"Branch_0\"):\n",
    "            branch_0 = slim.conv2d(net, 320, [1, 1], scope=)\n",
    "        with tf.variable_scope(\"Branch_1\"):\n",
    "            branch_1 = slim.conv2d(net, 384, [1, 1], scope=)\n",
    "            branch_1 = tf.concat(3, [\n",
    "                    slim.conv2d(branch_1, 384, [1, 3], scope=),\n",
    "                    slim.conv2d(branch_1, 384, [3, 1], scope=)\n",
    "                ])\n",
    "        with tf.variable_scope(\"Branch_2\"):\n",
    "            branch_2 = slim.conv2d(net, 448, [1, 1], scope=)\n",
    "            branch_2 = slim.conv2d(branch_2, 384, [3, 3], scope=)\n",
    "            branch_2 = tf.concat(3, [\n",
    "                    slim.conv2d(branch_2, 384, [1, 3], scope=),\n",
    "                    slim.conv2d(branch_2, 384, [3, 1], scope=)\n",
    "                ])\n",
    "        with tf.variable_scope(\"Branch_3\"):\n",
    "            branch_3 = slim.avg_pool2d(net, [3, 3], scope=)\n",
    "            branch_3 = slim.conv2d(branch_3, 192, [1, 1], scope=)\n",
    "            \n",
    "        net = tf.concat(3, [branch_0, branch_1, branch_2, branch_3])"
   ]
  }
 ],
 "metadata": {
  "kernelspec": {
   "display_name": "Python [conda env:ada]",
   "language": "python",
   "name": "conda-env-ada-py"
  },
  "language_info": {
   "codemirror_mode": {
    "name": "ipython",
    "version": 3
   },
   "file_extension": ".py",
   "mimetype": "text/x-python",
   "name": "python",
   "nbconvert_exporter": "python",
   "pygments_lexer": "ipython3",
   "version": "3.5.5"
  }
 },
 "nbformat": 4,
 "nbformat_minor": 1
}
