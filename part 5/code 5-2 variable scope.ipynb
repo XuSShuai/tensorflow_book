{
 "cells": [
  {
   "cell_type": "code",
   "execution_count": 1,
   "metadata": {
    "collapsed": true
   },
   "outputs": [],
   "source": [
    "import tensorflow as tf"
   ]
  },
  {
   "cell_type": "code",
   "execution_count": 2,
   "metadata": {
    "collapsed": false
   },
   "outputs": [
    {
     "name": "stdout",
     "output_type": "stream",
     "text": [
      "True\n"
     ]
    }
   ],
   "source": [
    "with tf.variable_scope(\"foo\"):\n",
    "    v = tf.get_variable(name=\"v\", shape=[1], initializer=tf.constant_initializer(1.0))\n",
    "\n",
    "with tf.variable_scope(\"foo\", reuse=True):\n",
    "    v1 = tf.get_variable(name=\"v\", shape=[1])\n",
    "    print(v1 == v)\n",
    "    \n",
    "# True"
   ]
  },
  {
   "cell_type": "code",
   "execution_count": 3,
   "metadata": {
    "collapsed": false
   },
   "outputs": [],
   "source": [
    "with tf.variable_scope(\"layer1\"):\n",
    "    v = tf.get_variable(\"v\", shape=[1], initializer=tf.constant_initializer(1.))\n",
    "\n",
    "with tf.variable_scope(\"layer1\"):\n",
    "    v = tf.get_variable(\"v\")\n",
    "    \n",
    "# Variable layer1/v already exists, disallowed. Did you mean to set reuse=True or reuse=tf.AUTO_REUSE in VarScope?"
   ]
  },
  {
   "cell_type": "code",
   "execution_count": 4,
   "metadata": {
    "collapsed": false
   },
   "outputs": [],
   "source": [
    "with tf.variable_scope(\"foo\", reuse=True):\n",
    "    r = tf.get_variable(\"r\")\n",
    "\n",
    "# Variable foo/r does not exist, or was not created with tf.get_variable(). Did you mean to set reuse=tf.AUTO_REUSE in VarScope?"
   ]
  },
  {
   "cell_type": "code",
   "execution_count": 5,
   "metadata": {
    "collapsed": false
   },
   "outputs": [
    {
     "name": "stdout",
     "output_type": "stream",
     "text": [
      "False\n",
      "True\n",
      "True\n",
      "False\n"
     ]
    }
   ],
   "source": [
    "with tf.variable_scope(\"root\"):\n",
    "    print(tf.get_variable_scope().reuse)\n",
    "    with tf.variable_scope(\"home\", reuse=True):\n",
    "        print(tf.get_variable_scope().reuse)\n",
    "        with tf.variable_scope(\"xu\"):\n",
    "            print(tf.get_variable_scope().reuse)\n",
    "    print(tf.get_variable_scope().reuse)"
   ]
  },
  {
   "cell_type": "code",
   "execution_count": 6,
   "metadata": {
    "collapsed": false
   },
   "outputs": [
    {
     "name": "stdout",
     "output_type": "stream",
     "text": [
      "v:0\n",
      "root/v:0\n",
      "root/home/v:0\n",
      "root/v1:0\n",
      "True\n",
      "True\n"
     ]
    }
   ],
   "source": [
    "v1 = tf.get_variable(\"v\", [1.])\n",
    "print(v1.name)\n",
    "with tf.variable_scope(\"root\"):\n",
    "    v2 = tf.get_variable(\"v\", [1.])\n",
    "    print(v2.name)\n",
    "    with tf.variable_scope(\"home\"):\n",
    "        v3 = tf.get_variable(\"v\", [1.])\n",
    "        print(v3.name)\n",
    "    v4 = tf.get_variable(\"v1\", [1.])\n",
    "    print(v4.name)\n",
    "\n",
    "with tf.variable_scope(\"\", reuse=True):\n",
    "    v5 = tf.get_variable(\"root/home/v\", [1.])\n",
    "    print(v5 == v3)\n",
    "    \n",
    "    v6 = tf.get_variable(\"root/v1\", [1.])\n",
    "    print(v6 == v4)"
   ]
  }
 ],
 "metadata": {
  "anaconda-cloud": {},
  "kernelspec": {
   "display_name": "Python [conda env:ada]",
   "language": "python",
   "name": "conda-env-ada-py"
  },
  "language_info": {
   "codemirror_mode": {
    "name": "ipython",
    "version": 3
   },
   "file_extension": ".py",
   "mimetype": "text/x-python",
   "name": "python",
   "nbconvert_exporter": "python",
   "pygments_lexer": "ipython3",
   "version": "3.5.5"
  }
 },
 "nbformat": 4,
 "nbformat_minor": 1
}
